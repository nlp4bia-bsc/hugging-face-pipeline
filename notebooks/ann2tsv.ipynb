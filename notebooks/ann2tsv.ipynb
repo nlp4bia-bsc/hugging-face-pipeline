{
 "cells": [
  {
   "cell_type": "markdown",
   "metadata": {},
   "source": [
    "## .ann to .tsv (with filename)\n",
    "Merge annotation files (.ann) into one file and include filename\n",
    "\n",
    "After merging all resulting .ann files to one using:\n",
    "```bash\n",
    "find . -name '*.ann' -type f -exec grep \"^T\" {} + > ../all_merged.ann\n",
    "```\n",
    "\n",
    "We then adapt the columns of the .ann file with the format required by the subtask's evaluation."
   ]
  },
  {
   "cell_type": "code",
   "execution_count": 1,
   "metadata": {},
   "outputs": [],
   "source": [
    "MERGED_ANN = \"../predictions/meddoplace-v2-test/5pdfn2ao_1.ann\""
   ]
  },
  {
   "cell_type": "code",
   "execution_count": 2,
   "metadata": {},
   "outputs": [],
   "source": [
    "import pandas as pd\n",
    "import csv"
   ]
  },
  {
   "cell_type": "code",
   "execution_count": 3,
   "metadata": {},
   "outputs": [],
   "source": [
    "df = pd.read_csv(MERGED_ANN, quoting=csv.QUOTE_NONE,\n",
    "                 sep=\"\\t\", usecols=[0, 1, 2], names=['id', \"label\", 'text'], header=None)"
   ]
  },
  {
   "cell_type": "code",
   "execution_count": null,
   "metadata": {},
   "outputs": [],
   "source": [
    "df"
   ]
  },
  {
   "cell_type": "code",
   "execution_count": 5,
   "metadata": {},
   "outputs": [],
   "source": [
    "df['start_span'] = df['label'].apply(lambda elem: elem.split()[1])\n",
    "df['end_span'] = df['label'].apply(lambda elem: elem.split()[2])\n",
    "df['label'] = df['label'].apply(lambda elem: elem.split()[0])\n",
    "df['filename'] = df['id'].apply(lambda elem: elem.split(':')[0])\n",
    "df['filename'] = df['filename'].apply(lambda filename: filename[2:]) # .split('.')[0] if you don't want (.ann) extension\n",
    "df['ann_id'] = df['id'].apply(lambda elem: elem.split(':')[1])\n",
    "df = df.drop(columns='id')\n",
    "# Reorder columns\n",
    "df = df[['filename', 'ann_id', 'label', 'start_span', 'end_span', 'text']]\n",
    "# NOTE: if IndexError, out of range, REMOVE any AnnotatorNote"
   ]
  },
  {
   "cell_type": "code",
   "execution_count": null,
   "metadata": {},
   "outputs": [],
   "source": [
    "df"
   ]
  },
  {
   "cell_type": "code",
   "execution_count": 7,
   "metadata": {},
   "outputs": [],
   "source": [
    "df.to_csv(\"../meddoplace_scoring_script/input/meddoplace-v2-test-5pdfn2ao_1.tsv\", quoting=csv.QUOTE_NONE, sep=\"\\t\", index=False, header=True)"
   ]
  }
 ],
 "metadata": {
  "kernelspec": {
   "display_name": "Python 3 (ipykernel)",
   "language": "python",
   "name": "python3"
  },
  "language_info": {
   "codemirror_mode": {
    "name": "ipython",
    "version": 3
   },
   "file_extension": ".py",
   "mimetype": "text/x-python",
   "name": "python",
   "nbconvert_exporter": "python",
   "pygments_lexer": "ipython3",
   "version": "3.9.1"
  }
 },
 "nbformat": 4,
 "nbformat_minor": 4
}
