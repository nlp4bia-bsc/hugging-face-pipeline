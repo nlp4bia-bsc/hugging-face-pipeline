{
 "cells": [
  {
   "cell_type": "code",
   "execution_count": 15,
   "id": "518f2d8e-fc09-4a3c-8333-7fc2ed574c2d",
   "metadata": {},
   "outputs": [],
   "source": [
    "import os\n",
    "import shutil\n",
    "import argparse\n",
    "\n",
    "\n",
    "def argparser():\n",
    "    ap = argparse.ArgumentParser(\n",
    "        description='Create a new directory containing a new split with the same filenames as another dataset (content of files might differ).')\n",
    "    ap.add_argument('-s', '--subset',\n",
    "                    help='Directory containing the subset of .txt and .ann files that the new dataset should contain.', required=True)\n",
    "    ap.add_argument('-f', '--from',\n",
    "                    help='Directory with a train subdirectory containing all files (and the ones from the subset)', required=True)\n",
    "    return ap\n",
    "\n",
    "\n",
    "# Function to move files\n",
    "def move_files(file_list, source_dir, target_dir):\n",
    "    for txt_file in file_list:\n",
    "        ann_file = txt_file.replace('.txt', '.ann')\n",
    "        \n",
    "        src_txt = os.path.join(dst_train, txt_file)\n",
    "        dst_txt = os.path.join(dst_valid, txt_file)\n",
    "        if os.path.exists(src_txt):\n",
    "            shutil.move(src_txt, dst_txt)\n",
    "        else:\n",
    "            print(f\"File {src_txt} does not exist.\")\n",
    "        src_ann = os.path.join(dst_train, ann_file)\n",
    "        dst_ann = os.path.join(dst_valid, ann_file)\n",
    "        if os.path.exists(src_ann):\n",
    "            shutil.move(src_ann, dst_ann)\n",
    "        else:\n",
    "            print(f\"File {src_ann} does not exist.\")\n",
    "\n",
    "\n",
    "def main(argv):\n",
    "    options = argparser().parse_args(argv[1:])\n",
    "    original_valid = options.subset\n",
    "    base_dir = options.from\n",
    "    dst_train = os.path.join(base_dir, 'train')\n",
    "    dst_valid = os.path.join(base_dir, 'valid')\n",
    "    # File lists from the original splits\n",
    "    original_valid_txts = [filename for filename in os.listdir(original_valid) if filename.endswith('.txt')]\n",
    "    \n",
    "    # Create directory if not existing\n",
    "    if not os.path.exists(dst_valid):\n",
    "        os.makedirs(dst_valid)\n",
    "        \n",
    "    # Move files to valid and test directories\n",
    "    move_files(original_valid_txts, dst_train, dst_valid)\n",
    "\n",
    "\n",
    "if __name__ == \"__main__\":\n",
    "    sys.exit(main(sys.argv))\n"
   ]
  },
  {
   "cell_type": "code",
   "execution_count": null,
   "id": "a75062b6-329e-401a-bba4-94e68c1efb76",
   "metadata": {},
   "outputs": [],
   "source": []
  }
 ],
 "metadata": {
  "kernelspec": {
   "display_name": "Python 3 (ipykernel)",
   "language": "python",
   "name": "python3"
  },
  "language_info": {
   "codemirror_mode": {
    "name": "ipython",
    "version": 3
   },
   "file_extension": ".py",
   "mimetype": "text/x-python",
   "name": "python",
   "nbconvert_exporter": "python",
   "pygments_lexer": "ipython3",
   "version": "3.9.1"
  }
 },
 "nbformat": 4,
 "nbformat_minor": 5
}
