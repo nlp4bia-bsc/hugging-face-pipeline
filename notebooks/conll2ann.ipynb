{
 "cells": [
  {
   "cell_type": "markdown",
   "metadata": {},
   "source": [
    "Generate an .ann file for each .conll file in a directory."
   ]
  },
  {
   "cell_type": "code",
   "execution_count": 1,
   "metadata": {},
   "outputs": [],
   "source": [
    "import os\n",
    "from brat.tools import BIOtoStandoff"
   ]
  },
  {
   "cell_type": "code",
   "execution_count": 25,
   "metadata": {},
   "outputs": [],
   "source": [
    "OUTPUT_CONLLS_DIR = \"../bsc-bio-ehr-es-meddoprof/best-2rvi973b/test_prediction_conlls/\" # Directory with CoNLLs (with trailing '/')\n",
    "ORIGINAL_TXTS_DIR = \"../meddoprof-no-act/test/\" # Directory with .txts (with trailing '/')\n",
    "OUTPUT_ANNS_DIR = \"../bsc-bio-ehr-es-meddoprof/best-2rvi973b/test_prediction_anns/\" # output dir (with trailing '/')"
   ]
  },
  {
   "cell_type": "code",
   "execution_count": 26,
   "metadata": {},
   "outputs": [],
   "source": [
    "os.makedirs(OUTPUT_ANNS_DIR)"
   ]
  },
  {
   "cell_type": "code",
   "execution_count": 27,
   "metadata": {},
   "outputs": [],
   "source": [
    "# Write an .ann file for each .conll file by calling BIOtoStandoff.py\n",
    "conll_files = sorted([file for file in os.listdir(OUTPUT_CONLLS_DIR) if file.endswith(\".conll\")])\n",
    "\n",
    "for conll_file in conll_files:\n",
    "    txt_file = conll_file.replace('.conll', '.txt')\n",
    "    argv = [\"brat/tools/BIOtoStandoff.py\", os.path.join(ORIGINAL_TXTS_DIR, txt_file), os.path.join(OUTPUT_CONLLS_DIR, conll_file), \"-1\", \"0\"]\n",
    "    try:\n",
    "        res = BIOtoStandoff.main(argv)\n",
    "    except Exception as e:\n",
    "        print(\"ERROR with file: \"+conll_file)\n",
    "    ann_file = conll_file.replace('.conll', '.ann')\n",
    "    with open(OUTPUT_ANNS_DIR + ann_file, 'w') as file:\n",
    "        ann_content = map(lambda line: str(line)+'\\n', res)\n",
    "        file.writelines(ann_content)"
   ]
  }
 ],
 "metadata": {
  "kernelspec": {
   "display_name": "Python 3 (ipykernel)",
   "language": "python",
   "name": "python3"
  },
  "language_info": {
   "codemirror_mode": {
    "name": "ipython",
    "version": 3
   },
   "file_extension": ".py",
   "mimetype": "text/x-python",
   "name": "python",
   "nbconvert_exporter": "python",
   "pygments_lexer": "ipython3",
   "version": "3.9.1"
  }
 },
 "nbformat": 4,
 "nbformat_minor": 4
}
