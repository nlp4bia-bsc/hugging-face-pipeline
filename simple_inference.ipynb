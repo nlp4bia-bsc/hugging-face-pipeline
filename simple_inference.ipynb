{
 "cells": [
  {
   "cell_type": "code",
   "execution_count": 1,
   "metadata": {},
   "outputs": [],
   "source": [
    "from transformers import RobertaForTokenClassification, AutoTokenizer, pipeline\n",
    "import re\n",
    "\n",
    "TOKENIZATION_REGEX = re.compile(\n",
    "    r'([0-9A-Za-zÀ-ÖØ-öø-ÿ]+|[^0-9A-Za-zÀ-ÖØ-öø-ÿ])')\n",
    "\n",
    "MODEL_PATH = \"../best-l2kx7y5e/\"\n",
    "model = RobertaForTokenClassification.from_pretrained(MODEL_PATH)"
   ]
  },
  {
   "cell_type": "code",
   "execution_count": 2,
   "metadata": {},
   "outputs": [],
   "source": [
    "tokenizer = AutoTokenizer.from_pretrained(MODEL_PATH)"
   ]
  },
  {
   "cell_type": "code",
   "execution_count": 3,
   "metadata": {},
   "outputs": [],
   "source": [
    "sentence = \"El paciente tiene fiebre (39.5), además de: tos, mocos y malestar general\""
   ]
  },
  {
   "cell_type": "code",
   "execution_count": 4,
   "metadata": {},
   "outputs": [],
   "source": [
    "tokens = [t for t in TOKENIZATION_REGEX.split(sentence) if t and not t.isspace()]"
   ]
  },
  {
   "cell_type": "code",
   "execution_count": 5,
   "metadata": {},
   "outputs": [],
   "source": [
    "pipe = pipeline(\"token-classification\", model=MODEL_PATH, aggregation_strategy='first')"
   ]
  },
  {
   "cell_type": "code",
   "execution_count": 6,
   "metadata": {},
   "outputs": [
    {
     "data": {
      "text/plain": [
       "'El paciente tiene fiebre ( 39 . 5 ) , además de : tos , mocos y malestar general'"
      ]
     },
     "execution_count": 6,
     "metadata": {},
     "output_type": "execute_result"
    }
   ],
   "source": [
    "sentence_pretokenized = ' '.join(tokens)\n",
    "sentence_pretokenized"
   ]
  },
  {
   "cell_type": "code",
   "execution_count": 7,
   "metadata": {},
   "outputs": [],
   "source": [
    "def get_added_spaces(sentence, sentence_pretokenized):\n",
    "    i = j = 0\n",
    "    added_spaces = []\n",
    "    while j < len(sentence_pretokenized):\n",
    "        if sentence[i] == sentence_pretokenized[j]:\n",
    "            i += 1\n",
    "            j += 1\n",
    "        elif sentence[i] == sentence_pretokenized[j+1] and sentence_pretokenized[j] == ' ':\n",
    "            added_spaces.append(j)\n",
    "            j += 1\n",
    "        else:\n",
    "            raise AssertionError(\"This should never be called.\")\n",
    "    return added_spaces"
   ]
  },
  {
   "cell_type": "code",
   "execution_count": 8,
   "metadata": {},
   "outputs": [],
   "source": [
    "added_spaces = get_added_spaces(sentence, sentence_pretokenized)"
   ]
  },
  {
   "cell_type": "code",
   "execution_count": 9,
   "metadata": {},
   "outputs": [
    {
     "name": "stderr",
     "output_type": "stream",
     "text": [
      "/home/jan/envs/ML/lib/python3.10/site-packages/transformers/pipelines/token_classification.py:320: UserWarning: Tokenizer does not support real words, using fallback heuristic\n",
      "  warnings.warn(\"Tokenizer does not support real words, using fallback heuristic\", UserWarning)\n"
     ]
    },
    {
     "data": {
      "text/plain": [
       "[{'entity_group': 'SINTOMA',\n",
       "  'score': 0.9999448,\n",
       "  'word': ' fiebre',\n",
       "  'start': 18,\n",
       "  'end': 24},\n",
       " {'entity_group': 'SINTOMA',\n",
       "  'score': 0.9999219,\n",
       "  'word': ' tos',\n",
       "  'start': 50,\n",
       "  'end': 53},\n",
       " {'entity_group': 'SINTOMA',\n",
       "  'score': 0.9998416,\n",
       "  'word': ' mocos',\n",
       "  'start': 56,\n",
       "  'end': 61},\n",
       " {'entity_group': 'SINTOMA',\n",
       "  'score': 0.99991643,\n",
       "  'word': ' malestar general',\n",
       "  'start': 64,\n",
       "  'end': 80}]"
      ]
     },
     "execution_count": 9,
     "metadata": {},
     "output_type": "execute_result"
    }
   ],
   "source": [
    "results_pre = pipe(sentence_pretokenized)\n",
    "results_pre"
   ]
  },
  {
   "cell_type": "code",
   "execution_count": 10,
   "metadata": {},
   "outputs": [],
   "source": [
    "def align_results(results_pre, added_spaces):\n",
    "    aligned_results = []\n",
    "    for entity in results_pre:\n",
    "        aligned_entity = entity.copy()\n",
    "        num_added_spaces = len(list(filter(lambda offset: offset < entity['start'], added_spaces)))\n",
    "        aligned_entity['word'] = entity['word'].strip()\n",
    "        aligned_entity['start'] = entity['start'] - num_added_spaces\n",
    "        aligned_entity['end'] = entity['end'] - num_added_spaces\n",
    "        aligned_results.append(aligned_entity)\n",
    "    return aligned_results"
   ]
  },
  {
   "cell_type": "code",
   "execution_count": 11,
   "metadata": {},
   "outputs": [
    {
     "data": {
      "text/plain": [
       "[{'entity_group': 'SINTOMA',\n",
       "  'score': 0.9999448,\n",
       "  'word': 'fiebre',\n",
       "  'start': 18,\n",
       "  'end': 24},\n",
       " {'entity_group': 'SINTOMA',\n",
       "  'score': 0.9999219,\n",
       "  'word': 'tos',\n",
       "  'start': 44,\n",
       "  'end': 47},\n",
       " {'entity_group': 'SINTOMA',\n",
       "  'score': 0.9998416,\n",
       "  'word': 'mocos',\n",
       "  'start': 49,\n",
       "  'end': 54},\n",
       " {'entity_group': 'SINTOMA',\n",
       "  'score': 0.99991643,\n",
       "  'word': 'malestar general',\n",
       "  'start': 57,\n",
       "  'end': 73}]"
      ]
     },
     "execution_count": 11,
     "metadata": {},
     "output_type": "execute_result"
    }
   ],
   "source": [
    "aligned_results = align_results(results_pre, added_spaces)\n",
    "aligned_results"
   ]
  },
  {
   "cell_type": "code",
   "execution_count": null,
   "metadata": {},
   "outputs": [],
   "source": []
  }
 ],
 "metadata": {
  "kernelspec": {
   "display_name": "ML",
   "language": "python",
   "name": "python3"
  },
  "language_info": {
   "codemirror_mode": {
    "name": "ipython",
    "version": 3
   },
   "file_extension": ".py",
   "mimetype": "text/x-python",
   "name": "python",
   "nbconvert_exporter": "python",
   "pygments_lexer": "ipython3",
   "version": "3.10.6"
  }
 },
 "nbformat": 4,
 "nbformat_minor": 2
}
