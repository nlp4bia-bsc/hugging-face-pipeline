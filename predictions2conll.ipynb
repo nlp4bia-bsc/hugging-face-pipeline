{
 "cells": [
  {
   "cell_type": "markdown",
   "metadata": {},
   "source": [
    "Generate the .conll files with the predictions from a model.\n",
    "\n",
    "This script uses the predictions (.json) obtained after executing the following code in the training notebook for the corresponding split (training, validation, or test):\n",
    "\n",
    "```python\n",
    "test_subset = tokenized_dataset[\"test\"].map(batched=True, batch_size=32, remove_columns=[\"id\",\"ner_tags\",\"tokens\"])\n",
    "test_subset = test_subset.map(forward_pass_with_label, batched=True, batch_size=32)\n",
    "test_df = test_subset.to_pandas()\n",
    "test_df.to_json(\"test_results.json\")\n",
    "```\n",
    "\n",
    "The idea is to align the predictions JSON (`test_results.json`) and the complete CoNLL file for the split (i.e. `test.conll`), so that we can use the same char offsets and tokens of the CoNLL and just substitute the ground truth label with the predicted one. \n",
    "\n",
    "Also, by having the offsets, we can split the predicted joint CoNLL into the different files (`e.g. caso-clinico-1.conll`) if we find that the next offset is lower than the last one."
   ]
  },
  {
   "cell_type": "code",
   "execution_count": 58,
   "metadata": {},
   "outputs": [],
   "source": [
    "PREDICTIONS_JSON = \"/home/jan/bsc/meddoplace_jan/meddoplace_noun/test_results_noun_10_epochs.json\" # Path to JSON File containing the predictions resulting from training notebook\n",
    "HF_DATASET = \"janrodriguez/meddoplace-noun-ner\" # Path to hugging face dataset (can be local or remote)\n",
    "MERGED_CONLL = \"/home/jan/bsc/meddoplace_noun/test.conll\" # CoNLL file with all true labels for the split\n",
    "ORIGINAL_CONLLS_DIR = \"/home/jan/bsc/meddoplace_noun/test\" # Directory containing the CoNLL files (with true labels) of the split\n",
    "OUTPUT_DIR = \"/home/jan/bsc/meddoplace_jan/meddoplace_noun/noun_prediction_conlls\" # Do not include a trailing '/'"
   ]
  },
  {
   "cell_type": "code",
   "execution_count": 59,
   "metadata": {},
   "outputs": [],
   "source": [
    "import pandas as pd\n",
    "import csv\n",
    "import os"
   ]
  },
  {
   "cell_type": "code",
   "execution_count": 60,
   "metadata": {},
   "outputs": [
    {
     "data": {
      "text/plain": [
       "0       [0, 0, 0, 0, 0, 0, 0, 0, 0, 0, 0, 0, 0, 0, 0, ...\n",
       "1       [0, 0, 0, 0, 0, 11, 0, 1, 2, 0, 0, 0, 0, 0, 0,...\n",
       "2       [0, 0, 0, 0, 0, 0, 0, 0, 0, 0, 0, 0, 0, 0, 0, ...\n",
       "3       [0, 0, 0, 0, 0, 0, 0, 0, 0, 0, 0, 0, 0, 0, 3, ...\n",
       "4       [0, 0, 0, 0, 0, 9, 10, 10, 10, 0, 0, 0, 0, 0, ...\n",
       "                              ...                        \n",
       "9804    [0, 0, 0, 0, 0, 0, 0, 0, 0, 0, 0, 0, 0, 0, 0, ...\n",
       "9805    [0, 0, 0, 0, 0, 0, 0, 0, 0, 0, 0, 0, 0, 0, 0, ...\n",
       "9806    [0, 0, 0, 0, 0, 0, 0, 0, 0, 0, 0, 0, 0, 0, 0, ...\n",
       "9807    [0, 0, 0, 0, 0, 0, 0, 0, 0, 0, 0, 0, 0, 0, 0, ...\n",
       "9808    [0, 0, 0, 0, 0, 0, 0, 0, 0, 0, 0, 0, 0, 0, 0, ...\n",
       "Name: predicted_label, Length: 9809, dtype: object"
      ]
     },
     "execution_count": 60,
     "metadata": {},
     "output_type": "execute_result"
    }
   ],
   "source": [
    "df = pd.read_json(PREDICTIONS_JSON)\n",
    "df['predicted_label']"
   ]
  },
  {
   "cell_type": "code",
   "execution_count": 61,
   "metadata": {},
   "outputs": [
    {
     "name": "stdout",
     "output_type": "stream",
     "text": [
      "Token is valid.\n",
      "Your token has been saved in your configured git credential helpers (store).\n",
      "Your token has been saved to /home/jan/.cache/huggingface/token\n",
      "Login successful\n"
     ]
    }
   ],
   "source": [
    "from huggingface_hub import notebook_login\n",
    "notebook_login()"
   ]
  },
  {
   "cell_type": "code",
   "execution_count": 62,
   "metadata": {},
   "outputs": [
    {
     "name": "stderr",
     "output_type": "stream",
     "text": [
      "Found cached dataset meddoplace-noun-ner (/home/jan/.cache/huggingface/datasets/janrodriguez___meddoplace-noun-ner/Meddoplace/1.0.0/3e1d88b1040fd27a258b349014199818b1336f38bc4e1ce11b506637965baeff)\n"
     ]
    },
    {
     "data": {
      "application/vnd.jupyter.widget-view+json": {
       "model_id": "e80812a0f8b248528d006daa995be1cb",
       "version_major": 2,
       "version_minor": 0
      },
      "text/plain": [
       "  0%|          | 0/3 [00:00<?, ?it/s]"
      ]
     },
     "metadata": {},
     "output_type": "display_data"
    }
   ],
   "source": [
    "from datasets import load_dataset\n",
    "dataset = load_dataset(HF_DATASET)"
   ]
  },
  {
   "cell_type": "code",
   "execution_count": 63,
   "metadata": {},
   "outputs": [],
   "source": [
    "classes = dataset[\"train\"].features[\"ner_tags\"].feature\n",
    "id2label = {idx: tag for idx, tag in enumerate(classes.names)}\n",
    "label2id = {tag: idx for idx, tag in enumerate(classes.names)}"
   ]
  },
  {
   "cell_type": "code",
   "execution_count": 64,
   "metadata": {},
   "outputs": [
    {
     "data": {
      "text/html": [
       "<div>\n",
       "<style scoped>\n",
       "    .dataframe tbody tr th:only-of-type {\n",
       "        vertical-align: middle;\n",
       "    }\n",
       "\n",
       "    .dataframe tbody tr th {\n",
       "        vertical-align: top;\n",
       "    }\n",
       "\n",
       "    .dataframe thead th {\n",
       "        text-align: right;\n",
       "    }\n",
       "</style>\n",
       "<table border=\"1\" class=\"dataframe\">\n",
       "  <thead>\n",
       "    <tr style=\"text-align: right;\">\n",
       "      <th></th>\n",
       "      <th></th>\n",
       "      <th>input_ids</th>\n",
       "      <th>attention_mask</th>\n",
       "      <th>labels</th>\n",
       "      <th>loss</th>\n",
       "      <th>predicted_label</th>\n",
       "      <th>logits</th>\n",
       "    </tr>\n",
       "  </thead>\n",
       "  <tbody>\n",
       "    <tr>\n",
       "      <th rowspan=\"5\" valign=\"top\">0</th>\n",
       "      <th>0</th>\n",
       "      <td>0.0</td>\n",
       "      <td>1.0</td>\n",
       "      <td>-100.0</td>\n",
       "      <td>0.000000</td>\n",
       "      <td>0.0</td>\n",
       "      <td>[9.5171518326, -2.222471714, -2.9363076687, 2....</td>\n",
       "    </tr>\n",
       "    <tr>\n",
       "      <th>1</th>\n",
       "      <td>458.0</td>\n",
       "      <td>1.0</td>\n",
       "      <td>0.0</td>\n",
       "      <td>0.000010</td>\n",
       "      <td>0.0</td>\n",
       "      <td>[11.3209171295, -1.9549036026, -1.6792972088, ...</td>\n",
       "    </tr>\n",
       "    <tr>\n",
       "      <th>2</th>\n",
       "      <td>2705.0</td>\n",
       "      <td>1.0</td>\n",
       "      <td>0.0</td>\n",
       "      <td>0.000010</td>\n",
       "      <td>0.0</td>\n",
       "      <td>[11.2885913849, -1.9743897915000002, -1.712980...</td>\n",
       "    </tr>\n",
       "    <tr>\n",
       "      <th>3</th>\n",
       "      <td>262.0</td>\n",
       "      <td>1.0</td>\n",
       "      <td>0.0</td>\n",
       "      <td>0.000009</td>\n",
       "      <td>0.0</td>\n",
       "      <td>[11.3430776596, -2.0153839588, -1.6989270449, ...</td>\n",
       "    </tr>\n",
       "    <tr>\n",
       "      <th>4</th>\n",
       "      <td>3946.0</td>\n",
       "      <td>1.0</td>\n",
       "      <td>0.0</td>\n",
       "      <td>0.000010</td>\n",
       "      <td>0.0</td>\n",
       "      <td>[11.2928352356, -1.9858816862, -1.7037079334, ...</td>\n",
       "    </tr>\n",
       "    <tr>\n",
       "      <th>...</th>\n",
       "      <th>...</th>\n",
       "      <td>...</td>\n",
       "      <td>...</td>\n",
       "      <td>...</td>\n",
       "      <td>...</td>\n",
       "      <td>...</td>\n",
       "      <td>...</td>\n",
       "    </tr>\n",
       "    <tr>\n",
       "      <th rowspan=\"5\" valign=\"top\">9808</th>\n",
       "      <th>10</th>\n",
       "      <td>837.0</td>\n",
       "      <td>1.0</td>\n",
       "      <td>0.0</td>\n",
       "      <td>0.000007</td>\n",
       "      <td>0.0</td>\n",
       "      <td>[11.4828119278, -1.9847073554999999, -1.946771...</td>\n",
       "    </tr>\n",
       "    <tr>\n",
       "      <th>11</th>\n",
       "      <td>1066.0</td>\n",
       "      <td>1.0</td>\n",
       "      <td>0.0</td>\n",
       "      <td>0.000007</td>\n",
       "      <td>0.0</td>\n",
       "      <td>[11.4844226837, -1.9791500568, -1.9528244734, ...</td>\n",
       "    </tr>\n",
       "    <tr>\n",
       "      <th>12</th>\n",
       "      <td>3777.0</td>\n",
       "      <td>1.0</td>\n",
       "      <td>0.0</td>\n",
       "      <td>0.000007</td>\n",
       "      <td>0.0</td>\n",
       "      <td>[11.4821424484, -2.0000920296, -1.9531577826, ...</td>\n",
       "    </tr>\n",
       "    <tr>\n",
       "      <th>13</th>\n",
       "      <td>22671.0</td>\n",
       "      <td>1.0</td>\n",
       "      <td>0.0</td>\n",
       "      <td>0.000007</td>\n",
       "      <td>0.0</td>\n",
       "      <td>[11.4722986221, -1.965950489, -1.9108389616, -...</td>\n",
       "    </tr>\n",
       "    <tr>\n",
       "      <th>14</th>\n",
       "      <td>2.0</td>\n",
       "      <td>1.0</td>\n",
       "      <td>-100.0</td>\n",
       "      <td>0.000000</td>\n",
       "      <td>0.0</td>\n",
       "      <td>[9.3655633926, -2.0505468845, -3.0862700939, 1...</td>\n",
       "    </tr>\n",
       "  </tbody>\n",
       "</table>\n",
       "<p>262072 rows × 6 columns</p>\n",
       "</div>"
      ],
      "text/plain": [
       "         input_ids  attention_mask  labels      loss  predicted_label   \n",
       "0    0         0.0             1.0  -100.0  0.000000              0.0  \\\n",
       "     1       458.0             1.0     0.0  0.000010              0.0   \n",
       "     2      2705.0             1.0     0.0  0.000010              0.0   \n",
       "     3       262.0             1.0     0.0  0.000009              0.0   \n",
       "     4      3946.0             1.0     0.0  0.000010              0.0   \n",
       "...            ...             ...     ...       ...              ...   \n",
       "9808 10      837.0             1.0     0.0  0.000007              0.0   \n",
       "     11     1066.0             1.0     0.0  0.000007              0.0   \n",
       "     12     3777.0             1.0     0.0  0.000007              0.0   \n",
       "     13    22671.0             1.0     0.0  0.000007              0.0   \n",
       "     14        2.0             1.0  -100.0  0.000000              0.0   \n",
       "\n",
       "                                                    logits  \n",
       "0    0   [9.5171518326, -2.222471714, -2.9363076687, 2....  \n",
       "     1   [11.3209171295, -1.9549036026, -1.6792972088, ...  \n",
       "     2   [11.2885913849, -1.9743897915000002, -1.712980...  \n",
       "     3   [11.3430776596, -2.0153839588, -1.6989270449, ...  \n",
       "     4   [11.2928352356, -1.9858816862, -1.7037079334, ...  \n",
       "...                                                    ...  \n",
       "9808 10  [11.4828119278, -1.9847073554999999, -1.946771...  \n",
       "     11  [11.4844226837, -1.9791500568, -1.9528244734, ...  \n",
       "     12  [11.4821424484, -2.0000920296, -1.9531577826, ...  \n",
       "     13  [11.4722986221, -1.965950489, -1.9108389616, -...  \n",
       "     14  [9.3655633926, -2.0505468845, -3.0862700939, 1...  \n",
       "\n",
       "[262072 rows x 6 columns]"
      ]
     },
     "execution_count": 64,
     "metadata": {},
     "output_type": "execute_result"
    }
   ],
   "source": [
    "df_tokens = df.apply(lambda x: x.apply(pd.Series).stack())\n",
    "df_tokens = df_tokens.dropna()\n",
    "df_tokens"
   ]
  },
  {
   "cell_type": "code",
   "execution_count": 65,
   "metadata": {},
   "outputs": [],
   "source": [
    "# Add label in string format (int to string)\n",
    "df_tokens['labels_str'] = df_tokens['labels'].apply(lambda x: 'IGN' if x not in id2label else id2label[x])\n",
    "df_tokens['predicted_label_str'] = df_tokens['predicted_label'].apply(lambda x: 'IGN' if x not in id2label else id2label[x])"
   ]
  },
  {
   "cell_type": "code",
   "execution_count": 66,
   "metadata": {},
   "outputs": [],
   "source": [
    "# Filter out predictions that should be ignored\n",
    "df_filtered = df_tokens[df_tokens['labels'] != -100]"
   ]
  },
  {
   "cell_type": "code",
   "execution_count": 67,
   "metadata": {},
   "outputs": [
    {
     "data": {
      "text/html": [
       "<div>\n",
       "<style scoped>\n",
       "    .dataframe tbody tr th:only-of-type {\n",
       "        vertical-align: middle;\n",
       "    }\n",
       "\n",
       "    .dataframe tbody tr th {\n",
       "        vertical-align: top;\n",
       "    }\n",
       "\n",
       "    .dataframe thead th {\n",
       "        text-align: right;\n",
       "    }\n",
       "</style>\n",
       "<table border=\"1\" class=\"dataframe\">\n",
       "  <thead>\n",
       "    <tr style=\"text-align: right;\">\n",
       "      <th></th>\n",
       "      <th>label</th>\n",
       "      <th>start</th>\n",
       "      <th>end</th>\n",
       "      <th>text</th>\n",
       "    </tr>\n",
       "  </thead>\n",
       "  <tbody>\n",
       "    <tr>\n",
       "      <th>0</th>\n",
       "      <td>O</td>\n",
       "      <td>0</td>\n",
       "      <td>2</td>\n",
       "      <td>El</td>\n",
       "    </tr>\n",
       "    <tr>\n",
       "      <th>1</th>\n",
       "      <td>O</td>\n",
       "      <td>3</td>\n",
       "      <td>5</td>\n",
       "      <td>21</td>\n",
       "    </tr>\n",
       "    <tr>\n",
       "      <th>2</th>\n",
       "      <td>O</td>\n",
       "      <td>6</td>\n",
       "      <td>8</td>\n",
       "      <td>de</td>\n",
       "    </tr>\n",
       "    <tr>\n",
       "      <th>3</th>\n",
       "      <td>O</td>\n",
       "      <td>9</td>\n",
       "      <td>14</td>\n",
       "      <td>enero</td>\n",
       "    </tr>\n",
       "    <tr>\n",
       "      <th>4</th>\n",
       "      <td>O</td>\n",
       "      <td>15</td>\n",
       "      <td>17</td>\n",
       "      <td>de</td>\n",
       "    </tr>\n",
       "    <tr>\n",
       "      <th>...</th>\n",
       "      <td>...</td>\n",
       "      <td>...</td>\n",
       "      <td>...</td>\n",
       "      <td>...</td>\n",
       "    </tr>\n",
       "    <tr>\n",
       "      <th>209720</th>\n",
       "      <td>O</td>\n",
       "      <td>1632</td>\n",
       "      <td>1634</td>\n",
       "      <td>es</td>\n",
       "    </tr>\n",
       "    <tr>\n",
       "      <th>209721</th>\n",
       "      <td>O</td>\n",
       "      <td>1635</td>\n",
       "      <td>1636</td>\n",
       "      <td>9</td>\n",
       "    </tr>\n",
       "    <tr>\n",
       "      <th>209722</th>\n",
       "      <td>O</td>\n",
       "      <td>1636</td>\n",
       "      <td>1637</td>\n",
       "      <td>%</td>\n",
       "    </tr>\n",
       "    <tr>\n",
       "      <th>209723</th>\n",
       "      <td>O</td>\n",
       "      <td>1638</td>\n",
       "      <td>1653</td>\n",
       "      <td>aproximadamente</td>\n",
       "    </tr>\n",
       "    <tr>\n",
       "      <th>209724</th>\n",
       "      <td>O</td>\n",
       "      <td>1653</td>\n",
       "      <td>1654</td>\n",
       "      <td>.</td>\n",
       "    </tr>\n",
       "  </tbody>\n",
       "</table>\n",
       "<p>209725 rows × 4 columns</p>\n",
       "</div>"
      ],
      "text/plain": [
       "       label  start   end             text\n",
       "0          O      0     2               El\n",
       "1          O      3     5               21\n",
       "2          O      6     8               de\n",
       "3          O      9    14            enero\n",
       "4          O     15    17               de\n",
       "...      ...    ...   ...              ...\n",
       "209720     O   1632  1634               es\n",
       "209721     O   1635  1636                9\n",
       "209722     O   1636  1637                %\n",
       "209723     O   1638  1653  aproximadamente\n",
       "209724     O   1653  1654                .\n",
       "\n",
       "[209725 rows x 4 columns]"
      ]
     },
     "execution_count": 67,
     "metadata": {},
     "output_type": "execute_result"
    }
   ],
   "source": [
    "# Load the reference CoNLL (whole split)\n",
    "df_conll = pd.read_csv(MERGED_CONLL, sep='\\t', quoting=csv.QUOTE_NONE, header=None)\n",
    "df_conll.columns = ['label', 'start', 'end', 'text']\n",
    "df_conll"
   ]
  },
  {
   "cell_type": "code",
   "execution_count": 68,
   "metadata": {},
   "outputs": [],
   "source": [
    "# Make sure that both true labels from the dataset and CoNLL are the same\n",
    "assert df_filtered['labels_str'].to_list() ==  df_conll['label'].to_list()"
   ]
  },
  {
   "cell_type": "code",
   "execution_count": 69,
   "metadata": {},
   "outputs": [],
   "source": [
    "# Replace true labels with predicted labels\n",
    "df_conll['label'] = df_filtered['predicted_label_str'].to_list()"
   ]
  },
  {
   "cell_type": "code",
   "execution_count": 70,
   "metadata": {},
   "outputs": [],
   "source": [
    "# Get the filenames of CoNLLs\n",
    "original_conlls = sorted([filename for filename in os.listdir(ORIGINAL_CONLLS_DIR) if filename.endswith('.conll')])"
   ]
  },
  {
   "cell_type": "code",
   "execution_count": 72,
   "metadata": {},
   "outputs": [],
   "source": [
    "os.makedirs(OUTPUT_DIR)"
   ]
  },
  {
   "cell_type": "code",
   "execution_count": 73,
   "metadata": {},
   "outputs": [],
   "source": [
    "# Generate the .conll files by using offset\n",
    "current_offset = 0\n",
    "file_idx = 0 # Position of file within all retrieved with listdir\n",
    "start_token_idx = 0 # Index within the dataframe that marks the start of a file\n",
    "for idx, line in df_conll.iterrows():\n",
    "    # If we reach the end of a file\n",
    "    if line['start'] < current_offset:\n",
    "        df_conll.loc[start_token_idx:idx-1].to_csv(OUTPUT_DIR + '/' + original_conlls[file_idx], sep='\\t', quoting=csv.QUOTE_NONE, header=None, index=False)\n",
    "        file_idx += 1\n",
    "        current_offset = 0\n",
    "        start_token_idx = idx\n",
    "    current_offset = line['end']"
   ]
  },
  {
   "cell_type": "code",
   "execution_count": null,
   "metadata": {},
   "outputs": [],
   "source": []
  }
 ],
 "metadata": {
  "kernelspec": {
   "display_name": "ML",
   "language": "python",
   "name": "python3"
  },
  "language_info": {
   "codemirror_mode": {
    "name": "ipython",
    "version": 3
   },
   "file_extension": ".py",
   "mimetype": "text/x-python",
   "name": "python",
   "nbconvert_exporter": "python",
   "pygments_lexer": "ipython3",
   "version": "3.10.6"
  },
  "orig_nbformat": 4
 },
 "nbformat": 4,
 "nbformat_minor": 2
}
