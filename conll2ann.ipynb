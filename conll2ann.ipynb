{
 "cells": [
  {
   "cell_type": "markdown",
   "metadata": {},
   "source": [
    "Generate an .ann file for each .conll file in a directory."
   ]
  },
  {
   "cell_type": "code",
   "execution_count": null,
   "metadata": {},
   "outputs": [],
   "source": [
    "import os\n",
    "from brat.tools import BIOtoStandoff"
   ]
  },
  {
   "cell_type": "code",
   "execution_count": null,
   "metadata": {},
   "outputs": [],
   "source": [
    "CONLL_DIR = \"/home/jan/bsc/meddoplace_jan/meddoplace_noun/noun_prediction_conlls/\" # Directory with CoNLLs (with trailing '/')\n",
    "TXT_DIR = \"/home/jan/bsc/meddoplace_completo/test_set_reference/txt/\" # Directory with .txts\n",
    "ANN_DIR = \"/home/jan/bsc/meddoplace_jan/meddoplace_noun/noun_prediction_anns/\" # output dir"
   ]
  },
  {
   "cell_type": "code",
   "execution_count": null,
   "metadata": {},
   "outputs": [],
   "source": [
    "os.makedirs(ANN_DIR)"
   ]
  },
  {
   "cell_type": "code",
   "execution_count": null,
   "metadata": {},
   "outputs": [],
   "source": [
    "# Write an .ann file for each .conll file by calling BIOtoStandoff.py\n",
    "conll_files = [file for file in os.listdir(CONLL_DIR) if file.endswith(\".conll\")]\n",
    "\n",
    "for conn_file in conll_files:\n",
    "    txt_file = conn_file.replace('.conll', '.txt')\n",
    "    argv = [\"brat/tools/BIOtoStandoff.py\", TXT_DIR + txt_file, CONLL_DIR + conn_file, \"-1\", \"0\"]\n",
    "    res = BIOtoStandoff.main(argv)\n",
    "    ann_file = conn_file.replace('.conll', '.ann')\n",
    "    with open(ANN_DIR + ann_file, 'w') as file:\n",
    "        ann_content = map(lambda line: str(line)+'\\n', res)\n",
    "        file.writelines(ann_content)"
   ]
  },
  {
   "cell_type": "markdown",
   "metadata": {},
   "source": [
    "## Merge annotation files (.ann) into one file and include filename\n",
    "\n",
    "After merging all resulting .ann files to one using:\n",
    "```bash\n",
    "find . -name '*.ann' -type f -exec grep \"\" {} + > ../all_merged.ann\n",
    "```\n",
    "\n",
    "We then adapt the columns of the .ann file with the format required by the subtask's evaluation.\n",
    "This was needed for Meddoplace evaluation."
   ]
  },
  {
   "cell_type": "code",
   "execution_count": null,
   "metadata": {},
   "outputs": [],
   "source": [
    "MERGED_ANN = \"/home/jan/bsc/meddoplace_jan/meddoplace_noun/all_merged.ann\""
   ]
  },
  {
   "cell_type": "code",
   "execution_count": null,
   "metadata": {},
   "outputs": [],
   "source": [
    "import pandas as pd\n",
    "import csv"
   ]
  },
  {
   "cell_type": "code",
   "execution_count": null,
   "metadata": {},
   "outputs": [],
   "source": [
    "df = pd.read_csv(MERGED_ANN, quoting=csv.QUOTE_NONE,\n",
    "                 sep=\"\\t\", usecols=[0, 1, 2], names=['id', \"label\", 'text'], header=None)"
   ]
  },
  {
   "cell_type": "code",
   "execution_count": null,
   "metadata": {},
   "outputs": [],
   "source": [
    "df['start_span'] = df['label'].apply(lambda elem: elem.split()[1])\n",
    "df['end_span'] = df['label'].apply(lambda elem: elem.split()[2])\n",
    "df['label'] = df['label'].apply(lambda elem: elem.split()[0])\n",
    "df['filename'] = df['id'].apply(lambda elem: elem.split(':')[0])\n",
    "df['ann_id'] = df['id'].apply(lambda elem: elem.split(':')[1])\n",
    "df = df.drop(columns='id')\n",
    "# Reorder columns\n",
    "df = df[['filename', 'ann_id', 'label', 'start_span', 'end_span', 'text']]\n",
    "df['filename'] = df['filename'].apply(lambda filename: filename[2:].split('.')[0])\n",
    "df"
   ]
  },
  {
   "cell_type": "code",
   "execution_count": null,
   "metadata": {},
   "outputs": [],
   "source": [
    "df.to_csv(\"/home/jan/bsc/meddoplace_jan/meddoplace_noun/meddoplace_noun.tsv\", quoting=csv.QUOTE_NONE, sep=\"\\t\", index=False, header=True)"
   ]
  },
  {
   "cell_type": "markdown",
   "metadata": {},
   "source": [
    "### Fixing reference loc_type.tsv for meddoplace scoring script"
   ]
  },
  {
   "cell_type": "code",
   "execution_count": null,
   "metadata": {},
   "outputs": [],
   "source": [
    "df_ref = pd.read_csv(\"/home/jan/bsc/meddoplace_scoring_script_noun/input/ref/noun_type.tsv\", sep=\"\\t\")"
   ]
  },
  {
   "cell_type": "code",
   "execution_count": null,
   "metadata": {},
   "outputs": [],
   "source": [
    "df_ref['start_span'] = df_ref['span'].apply(lambda elem: elem.split(', ')[0])\n",
    "df_ref['end_span'] = df_ref['span'].apply(lambda elem: elem.split(', ')[1])\n",
    "df_ref.drop(columns=['span', 'attributes', 'note'])\n",
    "df_ref = df_ref[['filename', 'label', 'start_span', 'end_span', 'text']]"
   ]
  },
  {
   "cell_type": "code",
   "execution_count": null,
   "metadata": {},
   "outputs": [],
   "source": [
    "df_ref.to_csv(\"/home/jan/bsc/meddoplace_scoring_script_noun/input/ref/noun_type.tsv\", sep=\"\\t\", index=False)"
   ]
  }
 ],
 "metadata": {
  "kernelspec": {
   "display_name": "ML",
   "language": "python",
   "name": "python3"
  },
  "language_info": {
   "codemirror_mode": {
    "name": "ipython",
    "version": 3
   },
   "file_extension": ".py",
   "mimetype": "text/x-python",
   "name": "python",
   "nbconvert_exporter": "python",
   "pygments_lexer": "ipython3",
   "version": "3.10.6"
  },
  "orig_nbformat": 4
 },
 "nbformat": 4,
 "nbformat_minor": 2
}
