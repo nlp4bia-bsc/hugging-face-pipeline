{
 "cells": [
  {
   "cell_type": "markdown",
   "metadata": {},
   "source": [
    "Generate an .ann file for each .conll file in a directory."
   ]
  },
  {
   "cell_type": "code",
   "execution_count": 1,
   "metadata": {},
   "outputs": [],
   "source": [
    "import os\n",
    "from brat.tools import BIOtoStandoff"
   ]
  },
  {
   "cell_type": "code",
   "execution_count": 42,
   "metadata": {},
   "outputs": [],
   "source": [
    "CONLL_DIR = \"/home/jan/bsc/meddoplace_jan/meddoplace_noun/noun_prediction_conlls/\" # Directory with CoNLLs (with trailing '/')\n",
    "TXT_DIR = \"/home/jan/bsc/meddoplace_completo/test_set_reference/txt/\" # Directory with .txts\n",
    "ANN_DIR = \"/home/jan/bsc/meddoplace_jan/meddoplace_noun/noun_prediction_anns/\" # output dir"
   ]
  },
  {
   "cell_type": "code",
   "execution_count": 43,
   "metadata": {},
   "outputs": [],
   "source": [
    "os.makedirs(ANN_DIR)"
   ]
  },
  {
   "cell_type": "code",
   "execution_count": 44,
   "metadata": {},
   "outputs": [
    {
     "name": "stderr",
     "output_type": "stream",
     "text": [
      "Note: rewriting \"I\" -> \"B\" after \"O\"\n",
      "Note: rewriting \"I\" -> \"B\" after \"O\"\n",
      "Note: rewriting \"I\" -> \"B\" at type switch\n",
      "Note: rewriting \"I\" -> \"B\" at type switch\n",
      "Note: rewriting \"I\" -> \"B\" at type switch\n",
      "Note: rewriting \"I\" -> \"B\" at type switch\n",
      "Note: rewriting \"I\" -> \"B\" at type switch\n",
      "Note: rewriting \"I\" -> \"B\" at type switch\n",
      "Note: rewriting \"I\" -> \"B\" after \"O\"\n",
      "Note: rewriting \"I\" -> \"B\" after \"O\"\n",
      "Note: rewriting \"I\" -> \"B\" at type switch\n",
      "Note: rewriting \"I\" -> \"B\" after \"O\"\n",
      "Note: rewriting \"I\" -> \"B\" after \"O\"\n",
      "Note: rewriting \"I\" -> \"B\" at type switch\n",
      "Note: rewriting \"I\" -> \"B\" after \"O\"\n",
      "Note: rewriting \"I\" -> \"B\" at type switch\n",
      "Note: rewriting \"I\" -> \"B\" at type switch\n",
      "Note: rewriting \"I\" -> \"B\" after \"O\"\n",
      "Note: rewriting \"I\" -> \"B\" at type switch\n",
      "Note: rewriting \"I\" -> \"B\" at type switch\n",
      "Note: rewriting \"I\" -> \"B\" at type switch\n",
      "Note: rewriting \"I\" -> \"B\" at type switch\n",
      "Note: rewriting \"I\" -> \"B\" at type switch\n",
      "Note: rewriting \"I\" -> \"B\" after \"O\"\n",
      "Note: rewriting \"I\" -> \"B\" after \"O\"\n",
      "Note: rewriting \"I\" -> \"B\" after \"O\"\n",
      "Note: rewriting \"I\" -> \"B\" after \"O\"\n",
      "Note: rewriting \"I\" -> \"B\" after \"O\"\n",
      "Note: rewriting \"I\" -> \"B\" at type switch\n",
      "Note: rewriting \"I\" -> \"B\" after \"O\"\n",
      "Note: rewriting \"I\" -> \"B\" after \"O\"\n",
      "Note: rewriting \"I\" -> \"B\" at type switch\n",
      "Note: rewriting \"I\" -> \"B\" after \"O\"\n",
      "Note: rewriting \"I\" -> \"B\" after \"O\"\n",
      "Note: rewriting \"I\" -> \"B\" at type switch\n",
      "Note: rewriting \"I\" -> \"B\" at type switch\n",
      "Note: rewriting \"I\" -> \"B\" at type switch\n",
      "Note: rewriting \"I\" -> \"B\" at type switch\n",
      "Note: rewriting \"I\" -> \"B\" at type switch\n",
      "Note: rewriting \"I\" -> \"B\" after \"O\"\n",
      "Note: rewriting \"I\" -> \"B\" after \"O\"\n",
      "Note: rewriting \"I\" -> \"B\" at type switch\n",
      "Note: rewriting \"I\" -> \"B\" after \"O\"\n",
      "Note: rewriting \"I\" -> \"B\" after \"O\"\n"
     ]
    }
   ],
   "source": [
    "# Write an .ann file for each .conll file by calling BIOtoStandoff.py\n",
    "conll_files = [file for file in os.listdir(CONLL_DIR) if file.endswith(\".conll\")]\n",
    "\n",
    "for conn_file in conll_files:\n",
    "    txt_file = conn_file.replace('.conll', '.txt')\n",
    "    argv = [\"brat/tools/BIOtoStandoff.py\", TXT_DIR + txt_file, CONLL_DIR + conn_file, \"-1\", \"0\"]\n",
    "    res = BIOtoStandoff.main(argv)\n",
    "    ann_file = conn_file.replace('.conll', '.ann')\n",
    "    with open(ANN_DIR + ann_file, 'w') as file:\n",
    "        ann_content = map(lambda line: str(line)+'\\n', res)\n",
    "        file.writelines(ann_content)"
   ]
  },
  {
   "cell_type": "markdown",
   "metadata": {},
   "source": [
    "## Merge annotation files (.ann) into one file and include filename\n",
    "\n",
    "After merging all resulting .ann files to one using:\n",
    "```bash\n",
    "find . -name '*.ann' -type f -exec grep \"\" {} + > ../all_merged.ann\n",
    "```\n",
    "\n",
    "We then adapt the columns of the .ann file with the format required by the subtask's evaluation.\n",
    "This was needed for Meddoplace evaluation."
   ]
  },
  {
   "cell_type": "code",
   "execution_count": 37,
   "metadata": {},
   "outputs": [],
   "source": [
    "MERGED_ANN = \"/home/jan/bsc/meddoplace_jan/meddoplace_loc_warmup/all_merged_filename.ann\""
   ]
  },
  {
   "cell_type": "code",
   "execution_count": 38,
   "metadata": {},
   "outputs": [],
   "source": [
    "import pandas as pd\n",
    "import csv"
   ]
  },
  {
   "cell_type": "code",
   "execution_count": 39,
   "metadata": {},
   "outputs": [],
   "source": [
    "df = pd.read_csv(MERGED_ANN, quoting=csv.QUOTE_NONE,\n",
    "                 sep=\"\\t\", usecols=[0, 1, 2], names=['id', \"label\", 'text'], header=None)"
   ]
  },
  {
   "cell_type": "code",
   "execution_count": 40,
   "metadata": {},
   "outputs": [
    {
     "data": {
      "text/html": [
       "<div>\n",
       "<style scoped>\n",
       "    .dataframe tbody tr th:only-of-type {\n",
       "        vertical-align: middle;\n",
       "    }\n",
       "\n",
       "    .dataframe tbody tr th {\n",
       "        vertical-align: top;\n",
       "    }\n",
       "\n",
       "    .dataframe thead th {\n",
       "        text-align: right;\n",
       "    }\n",
       "</style>\n",
       "<table border=\"1\" class=\"dataframe\">\n",
       "  <thead>\n",
       "    <tr style=\"text-align: right;\">\n",
       "      <th></th>\n",
       "      <th>filename</th>\n",
       "      <th>ann_id</th>\n",
       "      <th>label</th>\n",
       "      <th>start_span</th>\n",
       "      <th>end_span</th>\n",
       "      <th>text</th>\n",
       "    </tr>\n",
       "  </thead>\n",
       "  <tbody>\n",
       "    <tr>\n",
       "      <th>0</th>\n",
       "      <td>casos_clinicos_profesiones5</td>\n",
       "      <td>T1</td>\n",
       "      <td>DEPARTAMENTO</td>\n",
       "      <td>44</td>\n",
       "      <td>47</td>\n",
       "      <td>MAZ</td>\n",
       "    </tr>\n",
       "    <tr>\n",
       "      <th>1</th>\n",
       "      <td>casos_clinicos_profesiones5</td>\n",
       "      <td>T2</td>\n",
       "      <td>FAC</td>\n",
       "      <td>82</td>\n",
       "      <td>105</td>\n",
       "      <td>Hospital Obispo Polanco</td>\n",
       "    </tr>\n",
       "    <tr>\n",
       "      <th>2</th>\n",
       "      <td>casos_clinicos_profesiones5</td>\n",
       "      <td>T3</td>\n",
       "      <td>GPE</td>\n",
       "      <td>109</td>\n",
       "      <td>115</td>\n",
       "      <td>Teruel</td>\n",
       "    </tr>\n",
       "    <tr>\n",
       "      <th>3</th>\n",
       "      <td>casos_clinicos_profesiones5</td>\n",
       "      <td>T4</td>\n",
       "      <td>FAC</td>\n",
       "      <td>277</td>\n",
       "      <td>314</td>\n",
       "      <td>Mutua de Accidentes de Zaragoza (MAZ)</td>\n",
       "    </tr>\n",
       "    <tr>\n",
       "      <th>4</th>\n",
       "      <td>casos_clinicos_profesiones5</td>\n",
       "      <td>T5</td>\n",
       "      <td>DEPARTAMENTO</td>\n",
       "      <td>350</td>\n",
       "      <td>375</td>\n",
       "      <td>servicio de traumatología</td>\n",
       "    </tr>\n",
       "    <tr>\n",
       "      <th>...</th>\n",
       "      <td>...</td>\n",
       "      <td>...</td>\n",
       "      <td>...</td>\n",
       "      <td>...</td>\n",
       "      <td>...</td>\n",
       "      <td>...</td>\n",
       "    </tr>\n",
       "    <tr>\n",
       "      <th>2679</th>\n",
       "      <td>caso_clinico_urgencias139</td>\n",
       "      <td>T4</td>\n",
       "      <td>FAC</td>\n",
       "      <td>518</td>\n",
       "      <td>533</td>\n",
       "      <td>centro de salud</td>\n",
       "    </tr>\n",
       "    <tr>\n",
       "      <th>2680</th>\n",
       "      <td>caso_clinico_urgencias139</td>\n",
       "      <td>T5</td>\n",
       "      <td>DEPARTAMENTO</td>\n",
       "      <td>2140</td>\n",
       "      <td>2151</td>\n",
       "      <td>ginecología</td>\n",
       "    </tr>\n",
       "    <tr>\n",
       "      <th>2681</th>\n",
       "      <td>caso_clinico_oftalmologia211</td>\n",
       "      <td>T1</td>\n",
       "      <td>GEO</td>\n",
       "      <td>54</td>\n",
       "      <td>64</td>\n",
       "      <td>zona rural</td>\n",
       "    </tr>\n",
       "    <tr>\n",
       "      <th>2682</th>\n",
       "      <td>caso_clinico_oftalmologia211</td>\n",
       "      <td>T2</td>\n",
       "      <td>DEPARTAMENTO</td>\n",
       "      <td>179</td>\n",
       "      <td>211</td>\n",
       "      <td>consulta provincial de Pediatría</td>\n",
       "    </tr>\n",
       "    <tr>\n",
       "      <th>2683</th>\n",
       "      <td>caso_clinico_oftalmologia211</td>\n",
       "      <td>T3</td>\n",
       "      <td>FAC</td>\n",
       "      <td>216</td>\n",
       "      <td>260</td>\n",
       "      <td>Hospital Provincial Pediátrico Pepe Portilla</td>\n",
       "    </tr>\n",
       "  </tbody>\n",
       "</table>\n",
       "<p>2684 rows × 6 columns</p>\n",
       "</div>"
      ],
      "text/plain": [
       "                          filename ann_id         label start_span end_span   \n",
       "0      casos_clinicos_profesiones5     T1  DEPARTAMENTO         44       47  \\\n",
       "1      casos_clinicos_profesiones5     T2           FAC         82      105   \n",
       "2      casos_clinicos_profesiones5     T3           GPE        109      115   \n",
       "3      casos_clinicos_profesiones5     T4           FAC        277      314   \n",
       "4      casos_clinicos_profesiones5     T5  DEPARTAMENTO        350      375   \n",
       "...                            ...    ...           ...        ...      ...   \n",
       "2679     caso_clinico_urgencias139     T4           FAC        518      533   \n",
       "2680     caso_clinico_urgencias139     T5  DEPARTAMENTO       2140     2151   \n",
       "2681  caso_clinico_oftalmologia211     T1           GEO         54       64   \n",
       "2682  caso_clinico_oftalmologia211     T2  DEPARTAMENTO        179      211   \n",
       "2683  caso_clinico_oftalmologia211     T3           FAC        216      260   \n",
       "\n",
       "                                              text  \n",
       "0                                              MAZ  \n",
       "1                          Hospital Obispo Polanco  \n",
       "2                                           Teruel  \n",
       "3            Mutua de Accidentes de Zaragoza (MAZ)  \n",
       "4                        servicio de traumatología  \n",
       "...                                            ...  \n",
       "2679                               centro de salud  \n",
       "2680                                   ginecología  \n",
       "2681                                    zona rural  \n",
       "2682              consulta provincial de Pediatría  \n",
       "2683  Hospital Provincial Pediátrico Pepe Portilla  \n",
       "\n",
       "[2684 rows x 6 columns]"
      ]
     },
     "execution_count": 40,
     "metadata": {},
     "output_type": "execute_result"
    }
   ],
   "source": [
    "df['start_span'] = df['label'].apply(lambda elem: elem.split()[1])\n",
    "df['end_span'] = df['label'].apply(lambda elem: elem.split()[2])\n",
    "df['label'] = df['label'].apply(lambda elem: elem.split()[0])\n",
    "df['filename'] = df['id'].apply(lambda elem: elem.split(':')[0])\n",
    "df['ann_id'] = df['id'].apply(lambda elem: elem.split(':')[1])\n",
    "df = df.drop(columns='id')\n",
    "# Reorder columns\n",
    "df = df[['filename', 'ann_id', 'label', 'start_span', 'end_span', 'text']]\n",
    "df['filename'] = df['filename'].apply(lambda filename: filename[2:].split('.')[0])\n",
    "df"
   ]
  },
  {
   "cell_type": "code",
   "execution_count": 41,
   "metadata": {},
   "outputs": [],
   "source": [
    "df.to_csv(\"/home/jan/bsc/meddoplace_jan/meddoplace_loc_warmup/meddoplace_loc_warmup.tsv\", quoting=csv.QUOTE_NONE, sep=\"\\t\", index=False, header=True)"
   ]
  },
  {
   "cell_type": "markdown",
   "metadata": {},
   "source": [
    "### Fixing reference loc_type.tsv for meddoplace scoring script"
   ]
  },
  {
   "cell_type": "code",
   "execution_count": 26,
   "metadata": {},
   "outputs": [],
   "source": [
    "df_ref = pd.read_csv(\"/home/jan/bsc/meddoplace_scoring_script_loc/input/ref/loc_type.tsv\", sep=\"\\t\")"
   ]
  },
  {
   "cell_type": "code",
   "execution_count": 28,
   "metadata": {},
   "outputs": [],
   "source": [
    "df_ref['start_span'] = df_ref['span'].apply(lambda elem: elem.split(', ')[0])\n",
    "df_ref['end_span'] = df_ref['span'].apply(lambda elem: elem.split(', ')[1])\n",
    "df_ref.drop(columns=['span', 'attributes', 'note'])\n",
    "df_ref = df_ref[['filename', 'label', 'start_span', 'end_span', 'text']]"
   ]
  },
  {
   "cell_type": "code",
   "execution_count": 30,
   "metadata": {},
   "outputs": [],
   "source": [
    "df_ref.to_csv(\"/home/jan/bsc/meddoplace_scoring_script_loc/input/ref/loc_type.tsv\", sep=\"\\t\", index=False)"
   ]
  }
 ],
 "metadata": {
  "kernelspec": {
   "display_name": "ML",
   "language": "python",
   "name": "python3"
  },
  "language_info": {
   "codemirror_mode": {
    "name": "ipython",
    "version": 3
   },
   "file_extension": ".py",
   "mimetype": "text/x-python",
   "name": "python",
   "nbconvert_exporter": "python",
   "pygments_lexer": "ipython3",
   "version": "3.10.6"
  },
  "orig_nbformat": 4
 },
 "nbformat": 4,
 "nbformat_minor": 2
}
